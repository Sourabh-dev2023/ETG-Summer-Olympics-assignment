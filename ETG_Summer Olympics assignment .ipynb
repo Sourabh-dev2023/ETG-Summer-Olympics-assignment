{
 "cells": [
  {
   "cell_type": "code",
   "execution_count": 19,
   "id": "16bebbe3",
   "metadata": {},
   "outputs": [],
   "source": [
    "import pandas as pd"
   ]
  },
  {
   "cell_type": "code",
   "execution_count": 20,
   "id": "ab0b2aad",
   "metadata": {},
   "outputs": [],
   "source": [
    "df = pd.read_csv('summer.csv')"
   ]
  },
  {
   "cell_type": "markdown",
   "id": "39bea5ab",
   "metadata": {},
   "source": [
    "## 1. In how many cities Summer Olympics is held so far?"
   ]
  },
  {
   "cell_type": "code",
   "execution_count": 21,
   "id": "8211286a",
   "metadata": {},
   "outputs": [
    {
     "data": {
      "text/plain": [
       "22"
      ]
     },
     "execution_count": 21,
     "metadata": {},
     "output_type": "execute_result"
    }
   ],
   "source": [
    "len(df['City'].unique())"
   ]
  },
  {
   "cell_type": "markdown",
   "id": "ded3bd8e",
   "metadata": {},
   "source": [
    "# #2.  Which sport is having most number of Gold Medals so far? (Top 5)"
   ]
  },
  {
   "cell_type": "code",
   "execution_count": 22,
   "id": "adf6eb75",
   "metadata": {},
   "outputs": [
    {
     "data": {
      "text/plain": [
       "<AxesSubplot:xlabel='Sport'>"
      ]
     },
     "execution_count": 22,
     "metadata": {},
     "output_type": "execute_result"
    },
    {
     "data": {
      "image/png": "[encoded data removed]",
      "text/plain": [
       "<Figure size 1080x216 with 1 Axes>"
      ]
     },
     "metadata": {
      "needs_background": "light"
     },
     "output_type": "display_data"
    }
   ],
   "source": [
    "ab = []\n",
    "\n",
    "new_df = df[df['Medal'] == 'Gold']\n",
    "data = new_df.values\n",
    "for Sport in df['Sport'].unique():\n",
    "    c = 0\n",
    "    for i in range(len(new_df)):\n",
    "        if(data[i][2] == Sport):\n",
    "            c += 1\n",
    "    ab.append([Sport,c])\n",
    "D_ans = pd.DataFrame(lst,columns = ['Sport','Count']).sort_values(by = 'Count',ascending = False).head()\n",
    "D_ans.plot(x = 'Sport', y = 'Count', kind = 'bar',figsize = (15,3))"
   ]
  },
  {
   "cell_type": "markdown",
   "id": "1069ae17",
   "metadata": {},
   "source": [
    "## 3.Which sport is having most number of medals so far? (Top 5) "
   ]
  },
  {
   "cell_type": "code",
   "execution_count": 23,
   "id": "2a9eb39c",
   "metadata": {},
   "outputs": [
    {
     "data": {
      "text/plain": [
       "<AxesSubplot:xlabel='Sport'>"
      ]
     },
     "execution_count": 23,
     "metadata": {},
     "output_type": "execute_result"
    },
    {
     "data": {
      "image/png": "[encoded data removed]",
      "text/plain": [
       "<Figure size 1080x216 with 1 Axes>"
      ]
     },
     "metadata": {
      "needs_background": "light"
     },
     "output_type": "display_data"
    }
   ],
   "source": [
    "data = []\n",
    "for k in df['Sport'].unique():\n",
    "    data.append([k , len(df[df['Sport']  == k])])\n",
    "pd.DataFrame(data,columns = ['Sport','medals']).sort_values(by='medals', ascending=False).head().plot(x = 'Sport', y = 'medals', kind = 'bar', figsize = (15,3))"
   ]
  },
  {
   "cell_type": "markdown",
   "id": "bad41b4b",
   "metadata": {},
   "source": [
    "## 4.Which player has won most number of medals?"
   ]
  },
  {
   "cell_type": "code",
   "execution_count": 24,
   "id": "430a4d8a",
   "metadata": {},
   "outputs": [
    {
     "data": {
      "text/html": [
       "<div>\n",
       "<style scoped>\n",
       "    .dataframe tbody tr th:only-of-type {\n",
       "        vertical-align: middle;\n",
       "    }\n",
       "\n",
       "    .dataframe tbody tr th {\n",
       "        vertical-align: top;\n",
       "    }\n",
       "\n",
       "    .dataframe thead th {\n",
       "        text-align: right;\n",
       "    }\n",
       "</style>\n",
       "<table border=\"1\" class=\"dataframe\">\n",
       "  <thead>\n",
       "    <tr style=\"text-align: right;\">\n",
       "      <th></th>\n",
       "      <th>Athlete</th>\n",
       "      <th>Count</th>\n",
       "    </tr>\n",
       "  </thead>\n",
       "  <tbody>\n",
       "    <tr>\n",
       "      <th>18640</th>\n",
       "      <td>PHELPS, Michael</td>\n",
       "      <td>22</td>\n",
       "    </tr>\n",
       "  </tbody>\n",
       "</table>\n",
       "</div>"
      ],
      "text/plain": [
       "               Athlete  Count\n",
       "18640  PHELPS, Michael     22"
      ]
     },
     "execution_count": 24,
     "metadata": {},
     "output_type": "execute_result"
    }
   ],
   "source": [
    "n_list = []\n",
    "for i in df['Athlete'].unique():\n",
    "    n_list.append([i , len(df[df['Athlete']  == i])])\n",
    "pd.DataFrame(n_list,columns = ['Athlete','Count']).sort_values(by='Count', ascending=False).head(1)"
   ]
  },
  {
   "cell_type": "markdown",
   "id": "f0c7164e",
   "metadata": {},
   "source": [
    "## 5.Which player has won most number of Gold Medals?"
   ]
  },
  {
   "cell_type": "code",
   "execution_count": 25,
   "id": "6f437671",
   "metadata": {},
   "outputs": [
    {
     "data": {
      "text/html": [
       "<div>\n",
       "<style scoped>\n",
       "    .dataframe tbody tr th:only-of-type {\n",
       "        vertical-align: middle;\n",
       "    }\n",
       "\n",
       "    .dataframe tbody tr th {\n",
       "        vertical-align: top;\n",
       "    }\n",
       "\n",
       "    .dataframe thead th {\n",
       "        text-align: right;\n",
       "    }\n",
       "</style>\n",
       "<table border=\"1\" class=\"dataframe\">\n",
       "  <thead>\n",
       "    <tr style=\"text-align: right;\">\n",
       "      <th></th>\n",
       "      <th>Player</th>\n",
       "      <th>Count</th>\n",
       "    </tr>\n",
       "  </thead>\n",
       "  <tbody>\n",
       "    <tr>\n",
       "      <th>18640</th>\n",
       "      <td>PHELPS, Michael</td>\n",
       "      <td>18</td>\n",
       "    </tr>\n",
       "  </tbody>\n",
       "</table>\n",
       "</div>"
      ],
      "text/plain": [
       "                Player  Count\n",
       "18640  PHELPS, Michael     18"
      ]
     },
     "execution_count": 25,
     "metadata": {},
     "output_type": "execute_result"
    }
   ],
   "source": [
    "ab = []\n",
    "\n",
    "new_df = df[df['Medal'] == 'Gold']\n",
    "data = new_df.values\n",
    "for i in df['Athlete'].unique():\n",
    "    c = 0\n",
    "    for j in range(len(new_df)):\n",
    "        if(data[j][4] == i):\n",
    "            c += 1\n",
    "    ab.append([i,c])\n",
    "pd.DataFrame(ab,columns = ['Player','Count']).sort_values(by = 'Count',ascending = False).head(1)"
   ]
  },
  {
   "cell_type": "markdown",
   "id": "f884a14c",
   "metadata": {},
   "source": [
    "## 6.In which year India won first Gold Medal in Summer Olympics?"
   ]
  },
  {
   "cell_type": "code",
   "execution_count": 26,
   "id": "09b59069",
   "metadata": {},
   "outputs": [
    {
     "data": {
      "text/plain": [
       "1928"
      ]
     },
     "execution_count": 26,
     "metadata": {},
     "output_type": "execute_result"
    }
   ],
   "source": [
    "d = df[df['Country'] == 'IND'].groupby(['Medal']).first()\n",
    "d.values[1][0]"
   ]
  },
  {
   "cell_type": "markdown",
   "id": "fe3bad01",
   "metadata": {},
   "source": [
    "## 7.Which event is most popular in terms on number of players? "
   ]
  },
  {
   "cell_type": "code",
   "execution_count": 27,
   "id": "b9d6b008",
   "metadata": {},
   "outputs": [
    {
     "data": {
      "text/html": [
       "<div>\n",
       "<style scoped>\n",
       "    .dataframe tbody tr th:only-of-type {\n",
       "        vertical-align: middle;\n",
       "    }\n",
       "\n",
       "    .dataframe tbody tr th {\n",
       "        vertical-align: top;\n",
       "    }\n",
       "\n",
       "    .dataframe thead th {\n",
       "        text-align: right;\n",
       "    }\n",
       "</style>\n",
       "<table border=\"1\" class=\"dataframe\">\n",
       "  <thead>\n",
       "    <tr style=\"text-align: right;\">\n",
       "      <th></th>\n",
       "      <th>Event</th>\n",
       "      <th>count</th>\n",
       "    </tr>\n",
       "  </thead>\n",
       "  <tbody>\n",
       "    <tr>\n",
       "      <th>80</th>\n",
       "      <td>Football</td>\n",
       "      <td>1497</td>\n",
       "    </tr>\n",
       "  </tbody>\n",
       "</table>\n",
       "</div>"
      ],
      "text/plain": [
       "       Event  count\n",
       "80  Football   1497"
      ]
     },
     "execution_count": 27,
     "metadata": {},
     "output_type": "execute_result"
    }
   ],
   "source": [
    "n_list = []\n",
    "for i in df['Event'].unique():\n",
    "    n_list.append([i , len(df[df['Event']  == i])])\n",
    "pd.DataFrame(n_list,columns = ['Event','count']).sort_values(by='count', ascending=False).head(1)"
   ]
  },
  {
   "cell_type": "markdown",
   "id": "9b3e39e0",
   "metadata": {},
   "source": [
    "## 8.Which sport is having most female Gold Medalists? "
   ]
  },
  {
   "cell_type": "code",
   "execution_count": 28,
   "id": "3f1040b1",
   "metadata": {},
   "outputs": [
    {
     "data": {
      "text/html": [
       "<div>\n",
       "<style scoped>\n",
       "    .dataframe tbody tr th:only-of-type {\n",
       "        vertical-align: middle;\n",
       "    }\n",
       "\n",
       "    .dataframe tbody tr th {\n",
       "        vertical-align: top;\n",
       "    }\n",
       "\n",
       "    .dataframe thead th {\n",
       "        text-align: right;\n",
       "    }\n",
       "</style>\n",
       "<table border=\"1\" class=\"dataframe\">\n",
       "  <thead>\n",
       "    <tr style=\"text-align: right;\">\n",
       "      <th></th>\n",
       "      <th>Sport</th>\n",
       "      <th>Count</th>\n",
       "    </tr>\n",
       "  </thead>\n",
       "  <tbody>\n",
       "    <tr>\n",
       "      <th>0</th>\n",
       "      <td>Aquatics</td>\n",
       "      <td>589</td>\n",
       "    </tr>\n",
       "    <tr>\n",
       "      <th>1</th>\n",
       "      <td>Athletics</td>\n",
       "      <td>389</td>\n",
       "    </tr>\n",
       "    <tr>\n",
       "      <th>4</th>\n",
       "      <td>Gymnastics</td>\n",
       "      <td>268</td>\n",
       "    </tr>\n",
       "    <tr>\n",
       "      <th>17</th>\n",
       "      <td>Rowing</td>\n",
       "      <td>217</td>\n",
       "    </tr>\n",
       "    <tr>\n",
       "      <th>35</th>\n",
       "      <td>Volleyball</td>\n",
       "      <td>166</td>\n",
       "    </tr>\n",
       "  </tbody>\n",
       "</table>\n",
       "</div>"
      ],
      "text/plain": [
       "         Sport  Count\n",
       "0     Aquatics    589\n",
       "1    Athletics    389\n",
       "4   Gymnastics    268\n",
       "17      Rowing    217\n",
       "35  Volleyball    166"
      ]
     },
     "execution_count": 28,
     "metadata": {},
     "output_type": "execute_result"
    }
   ],
   "source": [
    "ab = []\n",
    "\n",
    "new_df = df[df['Medal'] == 'Gold']\n",
    "new_df = new_df[new_df['Gender'] == 'Women']\n",
    "data = new_df.values\n",
    "for i in df['Sport'].unique():\n",
    "    c = 0\n",
    "    for j in range(len(new_df)):\n",
    "        if(data[j][2] == i):\n",
    "            c += 1\n",
    "    ab.append([i,c])\n",
    "pd.DataFrame(ab,columns = ['Sport','Count']).sort_values(by = 'Count',ascending = False).head()"
   ]
  },
  {
   "cell_type": "markdown",
   "id": "e723b18f",
   "metadata": {},
   "source": []
  }
 ],
 "metadata": {
  "kernelspec": {
   "display_name": "Python 3",
   "language": "python",
   "name": "python3"
  },
  "language_info": {
   "codemirror_mode": {
    "name": "ipython",
    "version": 3
   },
   "file_extension": ".py",
   "mimetype": "text/x-python",
   "name": "python",
   "nbconvert_exporter": "python",
   "pygments_lexer": "ipython3",
   "version": "3.9.4"
  }
 },
 "nbformat": 4,
 "nbformat_minor": 5
}
